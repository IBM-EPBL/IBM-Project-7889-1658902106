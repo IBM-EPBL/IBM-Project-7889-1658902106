{
  "cells": [
    {
      "cell_type": "markdown",
      "metadata": {
        "id": "FE9n1fx2nrUS"
      },
      "source": [
        "### FOR BODY DAMAGE"
      ]
    },
    {
      "cell_type": "markdown",
      "metadata": {
        "id": "nWXXrOMinyPe"
      },
      "source": [
        "### IMAGE PRE PROCESSING"
      ]
    },
    {
      "cell_type": "markdown",
      "metadata": {
        "id": "TmN-Rhtnn3Wy"
      },
      "source": [
        "### 1. Import The ImageDataGenerator Library"
      ]
    },
    {
      "cell_type": "code",
      "execution_count": 2,
      "metadata": {
        "id": "JoKazqx2Wfhf"
      },
      "outputs": [],
      "source": [
        "from tensorflow.keras.preprocessing.image import ImageDataGenerator"
      ]
    },
    {
      "cell_type": "markdown",
      "metadata": {
        "id": "VybSPV22oHy3"
      },
      "source": [
        "### 2. Configure ImageDataGenerator Class"
      ]
    },
    {
      "cell_type": "code",
      "execution_count": 3,
      "metadata": {
        "id": "Wi3-s2QrW0wB"
      },
      "outputs": [],
      "source": [
        "train_datagen = ImageDataGenerator(rescale = 1./225,shear_range = 0.1, zoom_range = 0.1,horizontal_flip = True)\n",
        "test_datagen = ImageDataGenerator(rescale = 1./255)\n"
      ]
    },
    {
      "cell_type": "markdown",
      "metadata": {
        "id": "-OWDUr4aoS1h"
      },
      "source": [
        "### 3. Apply ImageDataGenerator Functionality To Trainset And Testset"
      ]
    },
    {
      "cell_type": "code",
      "execution_count": 4,
      "metadata": {
        "colab": {
          "base_uri": "https://localhost:8080/"
        },
        "id": "N2SAvj9HW-bB",
        "outputId": "412f06fe-79d6-4857-e7c6-4804b4f0b588"
      },
      "outputs": [
        {
          "output_type": "stream",
          "name": "stdout",
          "text": [
            "Found 979 images belonging to 3 classes.\n",
            "Found 171 images belonging to 3 classes.\n"
          ]
        }
      ],
      "source": [
        "training_set = train_datagen.flow_from_directory(r\"/content/drive/MyDrive/Projects/Car damage/body/training\",target_size = (224,224),  class_mode = \"categorical\",batch_size = 10)\n",
        "test_set = test_datagen.flow_from_directory(r\"/content/drive/MyDrive/Projects/Car damage/body/validation\",target_size = (224,224),  class_mode = \"categorical\",batch_size = 10)"
      ]
    },
    {
      "cell_type": "markdown",
      "metadata": {
        "id": "HtlOp_0noqfU"
      },
      "source": [
        "### MODEL BUILDING"
      ]
    },
    {
      "cell_type": "markdown",
      "metadata": {
        "id": "tH9C4uFGovfz"
      },
      "source": [
        "### 1. Importing The Model Building Libraries"
      ]
    },
    {
      "cell_type": "code",
      "execution_count": 5,
      "metadata": {
        "id": "208Jbq4jXPff"
      },
      "outputs": [],
      "source": [
        "import tensorflow as tf\n",
        "from tensorflow.keras.layers import Input, Lambda, Dense, Flatten\n",
        "from tensorflow.keras.models import Model\n",
        "from tensorflow.keras.applications.vgg16 import VGG16\n",
        "from tensorflow.keras.applications.vgg19 import VGG19\n",
        "from tensorflow.keras.preprocessing import image\n",
        "from tensorflow.keras.preprocessing.image import ImageDataGenerator,load_img\n",
        "from tensorflow.keras.models import Sequential\n",
        "import numpy as np\n",
        "from glob import glob"
      ]
    },
    {
      "cell_type": "markdown",
      "metadata": {
        "id": "O1xDXJamo_Ks"
      },
      "source": [
        "### 2. Loading The Model"
      ]
    },
    {
      "cell_type": "code",
      "execution_count": 6,
      "metadata": {
        "id": "gO72JCnvXRca"
      },
      "outputs": [],
      "source": [
        "IMAGE_SIZE = [224, 224]\n",
        "train_path = '/content/drive/MyDrive/Projects/Car damage/body/training'\n",
        "valid_path = '/content/drive/MyDrive/Projects/Car damage/body/validation'"
      ]
    },
    {
      "cell_type": "code",
      "execution_count": 7,
      "metadata": {
        "colab": {
          "base_uri": "https://localhost:8080/"
        },
        "id": "Ih_dNtGtX1BV",
        "outputId": "a011be12-239d-485c-a3a4-df424fa6afcf"
      },
      "outputs": [
        {
          "output_type": "stream",
          "name": "stdout",
          "text": [
            "Downloading data from https://storage.googleapis.com/tensorflow/keras-applications/vgg16/vgg16_weights_tf_dim_ordering_tf_kernels_notop.h5\n",
            "58889256/58889256 [==============================] - 0s 0us/step\n"
          ]
        }
      ],
      "source": [
        "vgg16 = VGG16(input_shape=IMAGE_SIZE + [3], weights='imagenet', include_top=False)"
      ]
    },
    {
      "cell_type": "markdown",
      "metadata": {
        "id": "W7QEKSSDpIzN"
      },
      "source": [
        "### 3. Adding Flatten Layer"
      ]
    },
    {
      "cell_type": "code",
      "execution_count": 8,
      "metadata": {
        "id": "f0GYR3FGX8k0"
      },
      "outputs": [],
      "source": [
        "for layer in vgg16.layers:\n",
        "    layer.trainable = False"
      ]
    },
    {
      "cell_type": "code",
      "execution_count": 9,
      "metadata": {
        "id": "LwSFujwcYCH0"
      },
      "outputs": [],
      "source": [
        "folders = glob('/content/drive/MyDrive/Projects/Car damage/body/training/*')"
      ]
    },
    {
      "cell_type": "code",
      "execution_count": 10,
      "metadata": {
        "colab": {
          "base_uri": "https://localhost:8080/"
        },
        "id": "kBJB7isFYQ8F",
        "outputId": "6732a8a0-9cab-4f25-a172-fd3415975992"
      },
      "outputs": [
        {
          "output_type": "execute_result",
          "data": {
            "text/plain": [
              "['/content/drive/MyDrive/Projects/Car damage/body/training/01-rear',\n",
              " '/content/drive/MyDrive/Projects/Car damage/body/training/02-side',\n",
              " '/content/drive/MyDrive/Projects/Car damage/body/training/00-front']"
            ]
          },
          "metadata": {},
          "execution_count": 10
        }
      ],
      "source": [
        "folders"
      ]
    },
    {
      "cell_type": "code",
      "execution_count": 11,
      "metadata": {
        "id": "f0qkrbnlYWCt"
      },
      "outputs": [],
      "source": [
        "x = Flatten()(vgg16.output)"
      ]
    },
    {
      "cell_type": "code",
      "execution_count": 12,
      "metadata": {
        "colab": {
          "base_uri": "https://localhost:8080/"
        },
        "id": "vsQEN7P8YZpa",
        "outputId": "b3e6b7a3-ed90-4b37-9d44-17b8fe09f8d1"
      },
      "outputs": [
        {
          "output_type": "execute_result",
          "data": {
            "text/plain": [
              "3"
            ]
          },
          "metadata": {},
          "execution_count": 12
        }
      ],
      "source": [
        "len(folders)"
      ]
    },
    {
      "cell_type": "markdown",
      "metadata": {
        "id": "unsRslBwpRKH"
      },
      "source": [
        "### 4. Adding Output Layer"
      ]
    },
    {
      "cell_type": "code",
      "execution_count": 13,
      "metadata": {
        "id": "1cr5B8CVYdvT"
      },
      "outputs": [],
      "source": [
        "prediction = Dense(len(folders), activation='softmax')(x)"
      ]
    },
    {
      "cell_type": "markdown",
      "metadata": {
        "id": "zCaQUtUmpW4I"
      },
      "source": [
        "### 5. Creating A Model Object"
      ]
    },
    {
      "cell_type": "code",
      "execution_count": 14,
      "metadata": {
        "id": "2GyzkrrHYhNE"
      },
      "outputs": [],
      "source": [
        "model = Model(inputs=vgg16.input, outputs=prediction)"
      ]
    },
    {
      "cell_type": "code",
      "execution_count": null,
      "metadata": {
        "colab": {
          "base_uri": "https://localhost:8080/"
        },
        "id": "C0dSEXDFYk4c",
        "outputId": "165b6b52-d05c-4848-ad65-eda1f5b5ca9c"
      },
      "outputs": [
        {
          "name": "stdout",
          "output_type": "stream",
          "text": [
            "Model: \"model\"\n",
            "_________________________________________________________________\n",
            " Layer (type)                Output Shape              Param #   \n",
            "=================================================================\n",
            " input_1 (InputLayer)        [(None, 224, 224, 3)]     0         \n",
            "                                                                 \n",
            " block1_conv1 (Conv2D)       (None, 224, 224, 64)      1792      \n",
            "                                                                 \n",
            " block1_conv2 (Conv2D)       (None, 224, 224, 64)      36928     \n",
            "                                                                 \n",
            " block1_pool (MaxPooling2D)  (None, 112, 112, 64)      0         \n",
            "                                                                 \n",
            " block2_conv1 (Conv2D)       (None, 112, 112, 128)     73856     \n",
            "                                                                 \n",
            " block2_conv2 (Conv2D)       (None, 112, 112, 128)     147584    \n",
            "                                                                 \n",
            " block2_pool (MaxPooling2D)  (None, 56, 56, 128)       0         \n",
            "                                                                 \n",
            " block3_conv1 (Conv2D)       (None, 56, 56, 256)       295168    \n",
            "                                                                 \n",
            " block3_conv2 (Conv2D)       (None, 56, 56, 256)       590080    \n",
            "                                                                 \n",
            " block3_conv3 (Conv2D)       (None, 56, 56, 256)       590080    \n",
            "                                                                 \n",
            " block3_pool (MaxPooling2D)  (None, 28, 28, 256)       0         \n",
            "                                                                 \n",
            " block4_conv1 (Conv2D)       (None, 28, 28, 512)       1180160   \n",
            "                                                                 \n",
            " block4_conv2 (Conv2D)       (None, 28, 28, 512)       2359808   \n",
            "                                                                 \n",
            " block4_conv3 (Conv2D)       (None, 28, 28, 512)       2359808   \n",
            "                                                                 \n",
            " block4_pool (MaxPooling2D)  (None, 14, 14, 512)       0         \n",
            "                                                                 \n",
            " block5_conv1 (Conv2D)       (None, 14, 14, 512)       2359808   \n",
            "                                                                 \n",
            " block5_conv2 (Conv2D)       (None, 14, 14, 512)       2359808   \n",
            "                                                                 \n",
            " block5_conv3 (Conv2D)       (None, 14, 14, 512)       2359808   \n",
            "                                                                 \n",
            " block5_pool (MaxPooling2D)  (None, 7, 7, 512)         0         \n",
            "                                                                 \n",
            " flatten (Flatten)           (None, 25088)             0         \n",
            "                                                                 \n",
            " dense (Dense)               (None, 3)                 75267     \n",
            "                                                                 \n",
            "=================================================================\n",
            "Total params: 14,789,955\n",
            "Trainable params: 75,267\n",
            "Non-trainable params: 14,714,688\n",
            "_________________________________________________________________\n"
          ]
        }
      ],
      "source": [
        "model.summary()"
      ]
    },
    {
      "cell_type": "markdown",
      "metadata": {
        "id": "Kkd_Lq7Lpkr9"
      },
      "source": [
        "### 6. Configure The Learning Process"
      ]
    },
    {
      "cell_type": "code",
      "execution_count": 15,
      "metadata": {
        "id": "Hv8dYxYMYnxB"
      },
      "outputs": [],
      "source": [
        "model.compile(loss='categorical_crossentropy',optimizer='adam',metrics=['accuracy'])"
      ]
    },
    {
      "cell_type": "markdown",
      "metadata": {
        "id": "eufr4Rtep0U8"
      },
      "source": [
        "### 7. Train The Model "
      ]
    },
    {
      "cell_type": "code",
      "execution_count": null,
      "metadata": {
        "colab": {
          "base_uri": "https://localhost:8080/"
        },
        "id": "XgFSop9ZYros",
        "outputId": "a57205d1-5df2-4062-a1d3-07a0e910471f"
      },
      "outputs": [
        {
          "name": "stderr",
          "output_type": "stream",
          "text": [
            "/usr/local/lib/python3.7/dist-packages/ipykernel_launcher.py:1: UserWarning: `Model.fit_generator` is deprecated and will be removed in a future version. Please use `Model.fit`, which supports generators.\n",
            "  \"\"\"Entry point for launching an IPython kernel.\n"
          ]
        },
        {
          "name": "stdout",
          "output_type": "stream",
          "text": [
            "Epoch 1/25\n",
            "98/98 [==============================] - 545s 6s/step - loss: 1.2961 - accuracy: 0.5271 - val_loss: 1.3222 - val_accuracy: 0.5263\n",
            "Epoch 2/25\n",
            "98/98 [==============================] - 523s 5s/step - loss: 0.6537 - accuracy: 0.7354 - val_loss: 0.8519 - val_accuracy: 0.6491\n",
            "Epoch 3/25\n",
            "98/98 [==============================] - 522s 5s/step - loss: 0.5249 - accuracy: 0.7937 - val_loss: 0.9558 - val_accuracy: 0.6374\n",
            "Epoch 4/25\n",
            "98/98 [==============================] - 522s 5s/step - loss: 0.3639 - accuracy: 0.8693 - val_loss: 1.0587 - val_accuracy: 0.6316\n",
            "Epoch 5/25\n",
            "98/98 [==============================] - 521s 5s/step - loss: 0.3006 - accuracy: 0.8979 - val_loss: 0.9209 - val_accuracy: 0.6901\n",
            "Epoch 6/25\n",
            "98/98 [==============================] - 523s 5s/step - loss: 0.2114 - accuracy: 0.9377 - val_loss: 0.9228 - val_accuracy: 0.6725\n",
            "Epoch 7/25\n",
            "98/98 [==============================] - 523s 5s/step - loss: 0.1560 - accuracy: 0.9530 - val_loss: 0.9612 - val_accuracy: 0.6725\n",
            "Epoch 8/25\n",
            "98/98 [==============================] - 522s 5s/step - loss: 0.1391 - accuracy: 0.9530 - val_loss: 1.0687 - val_accuracy: 0.6550\n",
            "Epoch 9/25\n",
            "98/98 [==============================] - 522s 5s/step - loss: 0.1803 - accuracy: 0.9367 - val_loss: 1.1303 - val_accuracy: 0.6842\n",
            "Epoch 10/25\n",
            "98/98 [==============================] - 522s 5s/step - loss: 0.1146 - accuracy: 0.9683 - val_loss: 1.1482 - val_accuracy: 0.6608\n",
            "Epoch 11/25\n",
            "98/98 [==============================] - 522s 5s/step - loss: 0.1042 - accuracy: 0.9704 - val_loss: 1.1766 - val_accuracy: 0.6784\n",
            "Epoch 12/25\n",
            "98/98 [==============================] - 522s 5s/step - loss: 0.0776 - accuracy: 0.9816 - val_loss: 1.1504 - val_accuracy: 0.6725\n",
            "Epoch 13/25\n",
            "98/98 [==============================] - 521s 5s/step - loss: 0.0642 - accuracy: 0.9877 - val_loss: 1.0494 - val_accuracy: 0.7076\n",
            "Epoch 14/25\n",
            "98/98 [==============================] - 519s 5s/step - loss: 0.0715 - accuracy: 0.9857 - val_loss: 1.0961 - val_accuracy: 0.7076\n",
            "Epoch 15/25\n",
            "98/98 [==============================] - 520s 5s/step - loss: 0.0497 - accuracy: 0.9928 - val_loss: 1.0348 - val_accuracy: 0.7135\n",
            "Epoch 16/25\n",
            "98/98 [==============================] - 520s 5s/step - loss: 0.0558 - accuracy: 0.9898 - val_loss: 1.1910 - val_accuracy: 0.6842\n",
            "Epoch 17/25\n",
            "98/98 [==============================] - 520s 5s/step - loss: 0.0661 - accuracy: 0.9877 - val_loss: 1.1379 - val_accuracy: 0.7310\n",
            "Epoch 18/25\n",
            "98/98 [==============================] - 520s 5s/step - loss: 0.0685 - accuracy: 0.9847 - val_loss: 1.1461 - val_accuracy: 0.6842\n",
            "Epoch 19/25\n",
            "98/98 [==============================] - 520s 5s/step - loss: 0.0379 - accuracy: 0.9939 - val_loss: 1.1653 - val_accuracy: 0.6959\n",
            "Epoch 20/25\n",
            "98/98 [==============================] - 520s 5s/step - loss: 0.0905 - accuracy: 0.9775 - val_loss: 1.1903 - val_accuracy: 0.6901\n",
            "Epoch 21/25\n",
            "98/98 [==============================] - 520s 5s/step - loss: 0.1705 - accuracy: 0.9408 - val_loss: 1.2762 - val_accuracy: 0.6608\n",
            "Epoch 22/25\n",
            "98/98 [==============================] - 520s 5s/step - loss: 0.1087 - accuracy: 0.9642 - val_loss: 1.7126 - val_accuracy: 0.6725\n",
            "Epoch 23/25\n",
            "98/98 [==============================] - 520s 5s/step - loss: 0.0601 - accuracy: 0.9775 - val_loss: 1.3931 - val_accuracy: 0.7135\n",
            "Epoch 24/25\n",
            "98/98 [==============================] - 520s 5s/step - loss: 0.1089 - accuracy: 0.9714 - val_loss: 1.5013 - val_accuracy: 0.6667\n",
            "Epoch 25/25\n",
            "98/98 [==============================] - 520s 5s/step - loss: 0.1153 - accuracy: 0.9612 - val_loss: 1.7544 - val_accuracy: 0.6842\n"
          ]
        }
      ],
      "source": [
        "r = model.fit_generator(training_set,validation_data=test_set,epochs=25,steps_per_epoch=len(training_set),validation_steps=len(test_set))"
      ]
    },
    {
      "cell_type": "markdown",
      "metadata": {
        "id": "U-LSgSuqp9BA"
      },
      "source": [
        "### 8. Save The Model"
      ]
    },
    {
      "cell_type": "code",
      "execution_count": null,
      "metadata": {
        "colab": {
          "base_uri": "https://localhost:8080/"
        },
        "id": "xTtgydk6ZA78",
        "outputId": "33280e2a-b5f0-48de-81c7-98c0a60474ec"
      },
      "outputs": [
        {
          "name": "stdout",
          "output_type": "stream",
          "text": [
            "/content/drive/MyDrive/Projects\n"
          ]
        }
      ],
      "source": [
        "cd /content/drive/MyDrive/Projects"
      ]
    },
    {
      "cell_type": "code",
      "execution_count": null,
      "metadata": {
        "id": "I05vieIoY4a4"
      },
      "outputs": [],
      "source": [
        "from tensorflow.keras.models import load_model\n",
        "\n",
        "model.save('body.h5')"
      ]
    },
    {
      "cell_type": "markdown",
      "metadata": {
        "id": "L7iNoOA5qFA3"
      },
      "source": [
        "### 9. Test The Model"
      ]
    },
    {
      "cell_type": "code",
      "execution_count": null,
      "metadata": {
        "id": "7gOyRHU1aKvT"
      },
      "outputs": [],
      "source": [
        "from tensorflow.keras.models import load_model\n",
        "import cv2\n",
        "from skimage.transform import resize"
      ]
    },
    {
      "cell_type": "code",
      "execution_count": null,
      "metadata": {
        "colab": {
          "base_uri": "https://localhost:8080/"
        },
        "id": "GAODuW-36yLk",
        "outputId": "37f2a0e1-0d29-402f-c4bd-ef6f6514b852"
      },
      "outputs": [
        {
          "name": "stdout",
          "output_type": "stream",
          "text": [
            "/content/drive/MyDrive/Projects\n"
          ]
        }
      ],
      "source": [
        "cd /content/drive/MyDrive/Projects"
      ]
    },
    {
      "cell_type": "code",
      "execution_count": null,
      "metadata": {
        "id": "eRymt3WIaLm0"
      },
      "outputs": [],
      "source": [
        "model = load_model('body.h5')"
      ]
    },
    {
      "cell_type": "code",
      "execution_count": null,
      "metadata": {
        "id": "eyf39WMXa9J7"
      },
      "outputs": [],
      "source": [
        "def detect(frame):\n",
        "  img = cv2.resize(frame,(224,224))\n",
        "  img = cv2.cvtColor(img,cv2.COLOR_BGR2RGB)\n",
        "\n",
        "  if(np.max(img)>1):\n",
        "    img = img/255.0\n",
        "  img = np.array([img])\n",
        "  prediction = model.predict(img)\n",
        "  label = [\"front\",\"rear\",\"side\"]\n",
        "  preds = label[np.argmax(prediction)]\n",
        "  return preds"
      ]
    },
    {
      "cell_type": "code",
      "execution_count": null,
      "metadata": {
        "id": "aCsAY7i0bH-J"
      },
      "outputs": [],
      "source": [
        "import numpy as np"
      ]
    },
    {
      "cell_type": "code",
      "execution_count": null,
      "metadata": {
        "colab": {
          "base_uri": "https://localhost:8080/"
        },
        "id": "OoJl94TEbMkl",
        "outputId": "58a938b3-7287-4093-a36a-90af0cf5d90d"
      },
      "outputs": [
        {
          "name": "stdout",
          "output_type": "stream",
          "text": [
            "1/1 [==============================] - 1s 924ms/step\n",
            "front\n"
          ]
        }
      ],
      "source": [
        "data = \"/content/drive/MyDrive/Projects/Car damage/body/training/00-front/0010.JPEG\"\n",
        "image = cv2.imread(data)\n",
        "print(detect(image))"
      ]
    },
    {
      "cell_type": "markdown",
      "metadata": {
        "id": "Jb74brCxqugu"
      },
      "source": [
        "### FOR LEVEL DAMAGE"
      ]
    },
    {
      "cell_type": "markdown",
      "metadata": {
        "id": "aPaKiDv5q21d"
      },
      "source": [
        "### 1. Import The ImageDataGenerator Library"
      ]
    },
    {
      "cell_type": "code",
      "execution_count": 16,
      "metadata": {
        "id": "bLaCOujh10Ez"
      },
      "outputs": [],
      "source": [
        "from tensorflow.keras.preprocessing.image import ImageDataGenerator"
      ]
    },
    {
      "cell_type": "markdown",
      "metadata": {
        "id": "b3wz2R6wq_Cz"
      },
      "source": [
        "### 2. Configure ImageDataGenerator Class"
      ]
    },
    {
      "cell_type": "code",
      "execution_count": 17,
      "metadata": {
        "id": "exlF2p0511t2"
      },
      "outputs": [],
      "source": [
        "train_datagen = ImageDataGenerator(rescale = 1./225,shear_range = 0.1, zoom_range = 0.1,horizontal_flip = True)\n",
        "test_datagen = ImageDataGenerator(rescale = 1./255)\n"
      ]
    },
    {
      "cell_type": "markdown",
      "metadata": {
        "id": "vzS2EZFDswSl"
      },
      "source": [
        "### 3. Apply ImageDataGenerator Functionality To Trainset And Testset"
      ]
    },
    {
      "cell_type": "code",
      "execution_count": 18,
      "metadata": {
        "colab": {
          "base_uri": "https://localhost:8080/"
        },
        "id": "SvQNEdOF3c96",
        "outputId": "8910a897-8785-4788-cb75-f2ed12e2237f"
      },
      "outputs": [
        {
          "output_type": "stream",
          "name": "stdout",
          "text": [
            "Found 979 images belonging to 3 classes.\n",
            "Found 171 images belonging to 3 classes.\n"
          ]
        }
      ],
      "source": [
        "training_set = train_datagen.flow_from_directory(r\"/content/drive/MyDrive/Projects/Car damage/level/training\",target_size = (224,224),  class_mode = \"categorical\",batch_size = 10)\n",
        "test_set = test_datagen.flow_from_directory(r\"/content/drive/MyDrive/Projects/Car damage/level/validation\",target_size = (224,224),  class_mode = \"categorical\",batch_size = 10)"
      ]
    },
    {
      "cell_type": "markdown",
      "metadata": {
        "id": "ZMa8Th5-zJ7H"
      },
      "source": [
        "### MODEL BUILDING"
      ]
    },
    {
      "cell_type": "markdown",
      "metadata": {
        "id": "_zQOfBrhzTW-"
      },
      "source": [
        "### 1. Importing The Model Building Libraries"
      ]
    },
    {
      "cell_type": "code",
      "execution_count": 19,
      "metadata": {
        "id": "yGxurOvj3vzD"
      },
      "outputs": [],
      "source": [
        "import tensorflow as tf\n",
        "from tensorflow.keras.layers import Input, Lambda, Dense, Flatten\n",
        "from tensorflow.keras.models import Model\n",
        "from tensorflow.keras.applications.vgg16 import VGG16\n",
        "from tensorflow.keras.applications.vgg19 import VGG19\n",
        "from tensorflow.keras.preprocessing import image\n",
        "from tensorflow.keras.preprocessing.image import ImageDataGenerator,load_img\n",
        "from tensorflow.keras.models import Sequential\n",
        "import numpy as np\n",
        "from glob import glob"
      ]
    },
    {
      "cell_type": "markdown",
      "metadata": {
        "id": "6Txj12HkznH4"
      },
      "source": [
        "### 2. Loading The Model"
      ]
    },
    {
      "cell_type": "code",
      "execution_count": 20,
      "metadata": {
        "id": "_mOF1TOI3yMX"
      },
      "outputs": [],
      "source": [
        "IMAGE_SIZE = [224, 224]\n",
        "train_path = '/content/drive/MyDrive/Projects/Car damage/level/training'\n",
        "valid_path = '/content/drive/MyDrive/Projects/Car damage/level/validation'"
      ]
    },
    {
      "cell_type": "code",
      "execution_count": 21,
      "metadata": {
        "id": "kpFUKDvQ4ART"
      },
      "outputs": [],
      "source": [
        "vgg16 = VGG16(input_shape=IMAGE_SIZE + [3], weights='imagenet', include_top=False)"
      ]
    },
    {
      "cell_type": "markdown",
      "metadata": {
        "id": "YlZ1FbAjzspA"
      },
      "source": [
        "### 3. Adding Flatten Layer"
      ]
    },
    {
      "cell_type": "code",
      "execution_count": 22,
      "metadata": {
        "id": "qXe5R7M34G3d"
      },
      "outputs": [],
      "source": [
        "for layer in vgg16.layers:\n",
        "    layer.trainable = False"
      ]
    },
    {
      "cell_type": "code",
      "execution_count": 23,
      "metadata": {
        "id": "VBhfQc7t4IUW"
      },
      "outputs": [],
      "source": [
        "folders = glob('/content/drive/MyDrive/Projects/Car damage/body/training/*')"
      ]
    },
    {
      "cell_type": "code",
      "execution_count": 24,
      "metadata": {
        "colab": {
          "base_uri": "https://localhost:8080/"
        },
        "id": "uhX21QUe4Sg-",
        "outputId": "9955d0fb-7f9a-46c1-9578-3d0f0247f6d2"
      },
      "outputs": [
        {
          "output_type": "execute_result",
          "data": {
            "text/plain": [
              "['/content/drive/MyDrive/Projects/Car damage/body/training/01-rear',\n",
              " '/content/drive/MyDrive/Projects/Car damage/body/training/02-side',\n",
              " '/content/drive/MyDrive/Projects/Car damage/body/training/00-front']"
            ]
          },
          "metadata": {},
          "execution_count": 24
        }
      ],
      "source": [
        "folders"
      ]
    },
    {
      "cell_type": "code",
      "execution_count": 25,
      "metadata": {
        "id": "gmUrbJyr4ZTl"
      },
      "outputs": [],
      "source": [
        "x = Flatten()(vgg16.output)"
      ]
    },
    {
      "cell_type": "code",
      "execution_count": 26,
      "metadata": {
        "colab": {
          "base_uri": "https://localhost:8080/"
        },
        "id": "l9e6ktHp4fty",
        "outputId": "85adfedf-eea0-4ded-897b-b27ade20a21a"
      },
      "outputs": [
        {
          "output_type": "execute_result",
          "data": {
            "text/plain": [
              "3"
            ]
          },
          "metadata": {},
          "execution_count": 26
        }
      ],
      "source": [
        "len(folders)"
      ]
    },
    {
      "cell_type": "markdown",
      "metadata": {
        "id": "ljjkER2y0Ez1"
      },
      "source": [
        "### 4. Adding Output Layer"
      ]
    },
    {
      "cell_type": "code",
      "execution_count": 27,
      "metadata": {
        "id": "1iRnboep4fqg"
      },
      "outputs": [],
      "source": [
        "prediction = Dense(len(folders), activation='softmax')(x)"
      ]
    },
    {
      "cell_type": "markdown",
      "metadata": {
        "id": "b6e5gzBN0IYo"
      },
      "source": [
        "### 5. Creating A Model Object"
      ]
    },
    {
      "cell_type": "code",
      "execution_count": 28,
      "metadata": {
        "id": "L6vxmzhQ4wDH"
      },
      "outputs": [],
      "source": [
        "model = Model(inputs=vgg16.input, outputs=prediction)"
      ]
    },
    {
      "cell_type": "code",
      "execution_count": 29,
      "metadata": {
        "id": "y_-SOQ72rOBC",
        "colab": {
          "base_uri": "https://localhost:8080/"
        },
        "outputId": "e36977e2-d5ed-4a95-f10e-c1ff097ad1cd"
      },
      "outputs": [
        {
          "output_type": "stream",
          "name": "stdout",
          "text": [
            "Model: \"model_1\"\n",
            "_________________________________________________________________\n",
            " Layer (type)                Output Shape              Param #   \n",
            "=================================================================\n",
            " input_2 (InputLayer)        [(None, 224, 224, 3)]     0         \n",
            "                                                                 \n",
            " block1_conv1 (Conv2D)       (None, 224, 224, 64)      1792      \n",
            "                                                                 \n",
            " block1_conv2 (Conv2D)       (None, 224, 224, 64)      36928     \n",
            "                                                                 \n",
            " block1_pool (MaxPooling2D)  (None, 112, 112, 64)      0         \n",
            "                                                                 \n",
            " block2_conv1 (Conv2D)       (None, 112, 112, 128)     73856     \n",
            "                                                                 \n",
            " block2_conv2 (Conv2D)       (None, 112, 112, 128)     147584    \n",
            "                                                                 \n",
            " block2_pool (MaxPooling2D)  (None, 56, 56, 128)       0         \n",
            "                                                                 \n",
            " block3_conv1 (Conv2D)       (None, 56, 56, 256)       295168    \n",
            "                                                                 \n",
            " block3_conv2 (Conv2D)       (None, 56, 56, 256)       590080    \n",
            "                                                                 \n",
            " block3_conv3 (Conv2D)       (None, 56, 56, 256)       590080    \n",
            "                                                                 \n",
            " block3_pool (MaxPooling2D)  (None, 28, 28, 256)       0         \n",
            "                                                                 \n",
            " block4_conv1 (Conv2D)       (None, 28, 28, 512)       1180160   \n",
            "                                                                 \n",
            " block4_conv2 (Conv2D)       (None, 28, 28, 512)       2359808   \n",
            "                                                                 \n",
            " block4_conv3 (Conv2D)       (None, 28, 28, 512)       2359808   \n",
            "                                                                 \n",
            " block4_pool (MaxPooling2D)  (None, 14, 14, 512)       0         \n",
            "                                                                 \n",
            " block5_conv1 (Conv2D)       (None, 14, 14, 512)       2359808   \n",
            "                                                                 \n",
            " block5_conv2 (Conv2D)       (None, 14, 14, 512)       2359808   \n",
            "                                                                 \n",
            " block5_conv3 (Conv2D)       (None, 14, 14, 512)       2359808   \n",
            "                                                                 \n",
            " block5_pool (MaxPooling2D)  (None, 7, 7, 512)         0         \n",
            "                                                                 \n",
            " flatten_1 (Flatten)         (None, 25088)             0         \n",
            "                                                                 \n",
            " dense_1 (Dense)             (None, 3)                 75267     \n",
            "                                                                 \n",
            "=================================================================\n",
            "Total params: 14,789,955\n",
            "Trainable params: 75,267\n",
            "Non-trainable params: 14,714,688\n",
            "_________________________________________________________________\n"
          ]
        }
      ],
      "source": [
        "model.summary()"
      ]
    },
    {
      "cell_type": "markdown",
      "metadata": {
        "id": "bXGstGFnz5r-"
      },
      "source": [
        "### 6. Configure The Learning Process"
      ]
    },
    {
      "cell_type": "code",
      "execution_count": 30,
      "metadata": {
        "id": "AAbc0ETm5Boc"
      },
      "outputs": [],
      "source": [
        "model.compile(loss='categorical_crossentropy',optimizer='adam',metrics=['accuracy'])"
      ]
    },
    {
      "cell_type": "markdown",
      "metadata": {
        "id": "sloWiqjSq5eh"
      },
      "source": [
        "### 7. Train The Model"
      ]
    },
    {
      "cell_type": "code",
      "execution_count": 31,
      "metadata": {
        "colab": {
          "base_uri": "https://localhost:8080/"
        },
        "id": "u7ezvsiH5Srr",
        "outputId": "30ef2d42-f372-477d-be98-e8df5c78cdc2"
      },
      "outputs": [
        {
          "output_type": "stream",
          "name": "stdout",
          "text": [
            "Epoch 1/10\n",
            "98/98 [==============================] - 622s 6s/step - loss: 1.1873 - accuracy: 0.5557 - val_loss: 1.1638 - val_accuracy: 0.6082\n",
            "Epoch 2/10\n",
            "98/98 [==============================] - 606s 6s/step - loss: 0.7436 - accuracy: 0.7222 - val_loss: 1.0043 - val_accuracy: 0.6433\n",
            "Epoch 3/10\n",
            "98/98 [==============================] - 607s 6s/step - loss: 0.4893 - accuracy: 0.8131 - val_loss: 1.5654 - val_accuracy: 0.5789\n",
            "Epoch 4/10\n",
            "98/98 [==============================] - 605s 6s/step - loss: 0.3905 - accuracy: 0.8560 - val_loss: 1.0406 - val_accuracy: 0.5965\n",
            "Epoch 5/10\n",
            "98/98 [==============================] - 611s 6s/step - loss: 0.2691 - accuracy: 0.9081 - val_loss: 1.0311 - val_accuracy: 0.6550\n",
            "Epoch 6/10\n",
            "98/98 [==============================] - 608s 6s/step - loss: 0.2242 - accuracy: 0.9193 - val_loss: 1.3213 - val_accuracy: 0.6140\n",
            "Epoch 7/10\n",
            "98/98 [==============================] - 617s 6s/step - loss: 0.3779 - accuracy: 0.8662 - val_loss: 2.4248 - val_accuracy: 0.5263\n",
            "Epoch 8/10\n",
            "98/98 [==============================] - 614s 6s/step - loss: 0.1824 - accuracy: 0.9234 - val_loss: 1.2652 - val_accuracy: 0.6023\n",
            "Epoch 9/10\n",
            "98/98 [==============================] - 615s 6s/step - loss: 0.1682 - accuracy: 0.9397 - val_loss: 1.4376 - val_accuracy: 0.5965\n",
            "Epoch 10/10\n",
            "98/98 [==============================] - 616s 6s/step - loss: 0.0888 - accuracy: 0.9714 - val_loss: 1.3967 - val_accuracy: 0.5906\n"
          ]
        }
      ],
      "source": [
        "r = model.fit(training_set,validation_data=test_set,epochs=10,steps_per_epoch=len(training_set),validation_steps=len(test_set))"
      ]
    },
    {
      "cell_type": "markdown",
      "metadata": {
        "id": "gRCdo84H0ocn"
      },
      "source": [
        "### 8. Save The Model"
      ]
    },
    {
      "cell_type": "code",
      "execution_count": 32,
      "metadata": {
        "id": "Oy0ab7vV50Zf",
        "colab": {
          "base_uri": "https://localhost:8080/"
        },
        "outputId": "82615060-b454-4741-97a1-b8d0304da327"
      },
      "outputs": [
        {
          "output_type": "stream",
          "name": "stdout",
          "text": [
            "/content/drive/MyDrive/Projects\n"
          ]
        }
      ],
      "source": [
        "cd /content/drive/MyDrive/Projects"
      ]
    },
    {
      "cell_type": "code",
      "execution_count": 33,
      "metadata": {
        "id": "3RoflCOp51kq"
      },
      "outputs": [],
      "source": [
        "from tensorflow.keras.models import load_model\n",
        "\n",
        "model.save('level.h5')"
      ]
    },
    {
      "cell_type": "markdown",
      "metadata": {
        "id": "jlYriLD500Je"
      },
      "source": [
        "### 9. Test The Model"
      ]
    },
    {
      "cell_type": "code",
      "execution_count": 34,
      "metadata": {
        "id": "nOTmsIu1q9nN"
      },
      "outputs": [],
      "source": [
        "from tensorflow.keras.models import load_model\n",
        "import cv2\n",
        "from skimage.transform import resize"
      ]
    },
    {
      "cell_type": "code",
      "execution_count": 35,
      "metadata": {
        "id": "gqdFgbgI6CLq"
      },
      "outputs": [],
      "source": [
        "model = load_model('level.h5')"
      ]
    },
    {
      "cell_type": "code",
      "execution_count": 36,
      "metadata": {
        "id": "I2OYX8bE6Hno"
      },
      "outputs": [],
      "source": [
        "def detect(frame):\n",
        "  img = cv2.resize(frame,(224,224))\n",
        "  img = cv2.cvtColor(img,cv2.COLOR_BGR2RGB)\n",
        "\n",
        "  if(np.max(img)>1):\n",
        "    img = img/255.0\n",
        "  img = np.array([img])\n",
        "  prediction = model.predict(img)\n",
        "  label = [\"front\",\"rear\",\"side\"]\n",
        "  preds = label[np.argmax(prediction)]\n",
        "  return preds"
      ]
    },
    {
      "cell_type": "code",
      "execution_count": 37,
      "metadata": {
        "id": "G4urUoT_6cnM"
      },
      "outputs": [],
      "source": [
        "import numpy as np"
      ]
    },
    {
      "cell_type": "code",
      "execution_count": 38,
      "metadata": {
        "id": "uGmgUH2V6ga5",
        "colab": {
          "base_uri": "https://localhost:8080/"
        },
        "outputId": "5c63a0fb-beac-4efb-a058-74261bb42c1a"
      },
      "outputs": [
        {
          "output_type": "stream",
          "name": "stdout",
          "text": [
            "1/1 [==============================] - 1s 747ms/step\n",
            "rear\n"
          ]
        }
      ],
      "source": [
        "data = \"/content/drive/MyDrive/Projects/Car damage/level/validation/03-severe/0067.JPEG\"\n",
        "image = cv2.imread(data)\n",
        "print(detect(image))"
      ]
    }
  ],
  "metadata": {
    "colab": {
      "collapsed_sections": [],
      "provenance": []
    },
    "kernelspec": {
      "display_name": "Python 3",
      "name": "python3"
    },
    "language_info": {
      "name": "python"
    }
  },
  "nbformat": 4,
  "nbformat_minor": 0
}